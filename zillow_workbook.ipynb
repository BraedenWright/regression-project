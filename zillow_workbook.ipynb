{
 "cells": [
  {
   "cell_type": "markdown",
   "id": "813a0769",
   "metadata": {},
   "source": [
    "# Zillow Project  Workbook\n",
    "\n",
    "-------------------------------------------------\n",
    "\n",
    "\n",
    "\n",
    "## Import Menagerie"
   ]
  },
  {
   "cell_type": "code",
   "execution_count": 1,
   "id": "8d520751",
   "metadata": {},
   "outputs": [],
   "source": [
    "# Foundation\n",
    "import pandas as pd\n",
    "import numpy as np\n",
    "from scipy import math\n",
    "\n",
    "# Visuals\n",
    "import matplotlib.pyplot as plt\n",
    "import seaborn as sns\n",
    "\n",
    "\n",
    "# Metric Tools\n",
    "import sklearn.linear_model\n",
    "import sklearn.feature_selection\n",
    "import sklearn.preprocessing\n",
    "\n",
    "\n",
    "# Custom\n",
    "import wrangle as wrg\n",
    "import evaluate as eva\n",
    "import explore as exp"
   ]
  },
  {
   "cell_type": "code",
   "execution_count": null,
   "id": "c0fa836c",
   "metadata": {},
   "outputs": [],
   "source": []
  }
 ],
 "metadata": {
  "kernelspec": {
   "display_name": "Python 3 (ipykernel)",
   "language": "python",
   "name": "python3"
  },
  "language_info": {
   "codemirror_mode": {
    "name": "ipython",
    "version": 3
   },
   "file_extension": ".py",
   "mimetype": "text/x-python",
   "name": "python",
   "nbconvert_exporter": "python",
   "pygments_lexer": "ipython3",
   "version": "3.9.7"
  }
 },
 "nbformat": 4,
 "nbformat_minor": 5
}
