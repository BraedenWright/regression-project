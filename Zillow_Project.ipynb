{
 "cells": [
  {
   "cell_type": "markdown",
   "id": "8b5a87bb",
   "metadata": {},
   "source": [
    "# Predicting Tax Value for Single Family Homes\n",
    "\n",
    "by Braeden Wright\n",
    "03-30-2022\n",
    "\n",
    "## Project Goal\n",
    "\n",
    "- Find the key drivers of property value for single family properties and construct an ML Regression model that will predict property tax assessed values (tax_value) for those homes.\n",
    "\n",
    "## Project Description\n",
    "\n",
    "- TBD\n",
    "\n",
    "## Initial Questions\n",
    "\n",
    "- Does more square footage always lead to a larger tax value?\n",
    "- Would the year the house was built positively or negatively affect tax value?\n",
    "- TBD\n",
    "\n",
    "## Data Dictionary\n",
    "\n",
    "\n",
    "\n",
    "# Imports"
   ]
  },
  {
   "cell_type": "code",
   "execution_count": 1,
   "id": "66207925",
   "metadata": {},
   "outputs": [
    {
     "name": "stdout",
     "output_type": "stream",
     "text": [
      "Reading cleaned data from csv file...\n"
     ]
    },
    {
     "data": {
      "text/html": [
       "<div>\n",
       "<style scoped>\n",
       "    .dataframe tbody tr th:only-of-type {\n",
       "        vertical-align: middle;\n",
       "    }\n",
       "\n",
       "    .dataframe tbody tr th {\n",
       "        vertical-align: top;\n",
       "    }\n",
       "\n",
       "    .dataframe thead th {\n",
       "        text-align: right;\n",
       "    }\n",
       "</style>\n",
       "<table border=\"1\" class=\"dataframe\">\n",
       "  <thead>\n",
       "    <tr style=\"text-align: right;\">\n",
       "      <th></th>\n",
       "      <th>bedrooms</th>\n",
       "      <th>bathrooms</th>\n",
       "      <th>sqr_feet</th>\n",
       "      <th>tax_value</th>\n",
       "      <th>year_built</th>\n",
       "      <th>fips</th>\n",
       "    </tr>\n",
       "  </thead>\n",
       "  <tbody>\n",
       "    <tr>\n",
       "      <th>0</th>\n",
       "      <td>4.0</td>\n",
       "      <td>2.0</td>\n",
       "      <td>3633.0</td>\n",
       "      <td>296425.0</td>\n",
       "      <td>2005</td>\n",
       "      <td>6037</td>\n",
       "    </tr>\n",
       "    <tr>\n",
       "      <th>1</th>\n",
       "      <td>3.0</td>\n",
       "      <td>2.0</td>\n",
       "      <td>1222.0</td>\n",
       "      <td>290492.0</td>\n",
       "      <td>1951</td>\n",
       "      <td>6037</td>\n",
       "    </tr>\n",
       "    <tr>\n",
       "      <th>2</th>\n",
       "      <td>3.0</td>\n",
       "      <td>2.5</td>\n",
       "      <td>1821.0</td>\n",
       "      <td>537949.0</td>\n",
       "      <td>2013</td>\n",
       "      <td>6059</td>\n",
       "    </tr>\n",
       "  </tbody>\n",
       "</table>\n",
       "</div>"
      ],
      "text/plain": [
       "   bedrooms  bathrooms  sqr_feet  tax_value  year_built  fips\n",
       "0       4.0        2.0    3633.0   296425.0        2005  6037\n",
       "1       3.0        2.0    1222.0   290492.0        1951  6037\n",
       "2       3.0        2.5    1821.0   537949.0        2013  6059"
      ]
     },
     "execution_count": 1,
     "metadata": {},
     "output_type": "execute_result"
    }
   ],
   "source": [
    "# Foundation\n",
    "import pandas as pd\n",
    "import numpy as np\n",
    "from scipy import math\n",
    "\n",
    "# Visuals\n",
    "import matplotlib.pyplot as plt\n",
    "import seaborn as sns\n",
    "\n",
    "\n",
    "# Metric and Modeling Tools\n",
    "import sklearn.linear_model\n",
    "import sklearn.feature_selection\n",
    "import sklearn.preprocessing\n",
    "from sklearn.linear_model import LogisticRegression\n",
    "\n",
    "# Custom\n",
    "import wrangle_prep as wp\n",
    "import explore as ep\n",
    "\n",
    "\n",
    "# Required Data\n",
    "df = wp.wrangle_zillow()\n",
    "df.head(3)"
   ]
  },
  {
   "cell_type": "code",
   "execution_count": 3,
   "id": "4cbf4332",
   "metadata": {},
   "outputs": [
    {
     "name": "stdout",
     "output_type": "stream",
     "text": [
      "<class 'pandas.core.frame.DataFrame'>\n",
      "RangeIndex: 1355481 entries, 0 to 1355480\n",
      "Data columns (total 6 columns):\n",
      " #   Column      Non-Null Count    Dtype  \n",
      "---  ------      --------------    -----  \n",
      " 0   bedrooms    1355481 non-null  float64\n",
      " 1   bathrooms   1355481 non-null  float64\n",
      " 2   sqr_feet    1355481 non-null  float64\n",
      " 3   tax_value   1355481 non-null  float64\n",
      " 4   year_built  1355481 non-null  object \n",
      " 5   fips        1355481 non-null  object \n",
      "dtypes: float64(4), object(2)\n",
      "memory usage: 62.0+ MB\n"
     ]
    }
   ],
   "source": [
    "df.year_built = df.year_built.astype(object)\n",
    "df.fips = df.fips.astype(object)\n",
    "df.info()"
   ]
  },
  {
   "cell_type": "code",
   "execution_count": null,
   "id": "6e8850bc",
   "metadata": {},
   "outputs": [],
   "source": []
  }
 ],
 "metadata": {
  "kernelspec": {
   "display_name": "Python 3 (ipykernel)",
   "language": "python",
   "name": "python3"
  },
  "language_info": {
   "codemirror_mode": {
    "name": "ipython",
    "version": 3
   },
   "file_extension": ".py",
   "mimetype": "text/x-python",
   "name": "python",
   "nbconvert_exporter": "python",
   "pygments_lexer": "ipython3",
   "version": "3.9.7"
  }
 },
 "nbformat": 4,
 "nbformat_minor": 5
}
